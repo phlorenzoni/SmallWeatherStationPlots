{
 "cells": [
  {
   "cell_type": "markdown",
   "metadata": {},
   "source": [
    "## Matplotlib para Plotagem dos Gráficos referentes à Praça 7 de Setembro\n",
    "### Paulo Henrique Lorenzoni Filho\n",
    "#### Dados oriundos de uma Miniestação Meteorológica Arduino\n",
    "Base de dados\n"
   ]
  },
  {
   "cell_type": "code",
   "execution_count": 1,
   "metadata": {},
   "outputs": [],
   "source": [
    "import pandas as pd\n",
    "import numpy as np\n",
    "import matplotlib.pyplot as plt"
   ]
  },
  {
   "cell_type": "code",
   "execution_count": 2,
   "metadata": {},
   "outputs": [
    {
     "ename": "FileNotFoundError",
     "evalue": "[Errno 2] No such file or directory: 'pico.xlsx'",
     "output_type": "error",
     "traceback": [
      "\u001b[1;31m---------------------------------------------------------------------------\u001b[0m",
      "\u001b[1;31mFileNotFoundError\u001b[0m                         Traceback (most recent call last)",
      "Input \u001b[1;32mIn [2]\u001b[0m, in \u001b[0;36m<cell line: 1>\u001b[1;34m()\u001b[0m\n\u001b[1;32m----> 1\u001b[0m dados1\u001b[38;5;241m=\u001b[39m\u001b[43mpd\u001b[49m\u001b[38;5;241;43m.\u001b[39;49m\u001b[43mread_excel\u001b[49m\u001b[43m(\u001b[49m\u001b[38;5;124;43m\"\u001b[39;49m\u001b[38;5;124;43mpico.xlsx\u001b[39;49m\u001b[38;5;124;43m\"\u001b[39;49m\u001b[43m,\u001b[49m\u001b[43msheet_name\u001b[49m\u001b[38;5;241;43m=\u001b[39;49m\u001b[38;5;124;43m\"\u001b[39;49m\u001b[38;5;124;43mPlan2\u001b[39;49m\u001b[38;5;124;43m\"\u001b[39;49m\u001b[43m)\u001b[49m\n\u001b[0;32m      2\u001b[0m dados1\n",
      "File \u001b[1;32m~\\AppData\\Local\\Programs\\Python\\Python310\\lib\\site-packages\\pandas\\util\\_decorators.py:311\u001b[0m, in \u001b[0;36mdeprecate_nonkeyword_arguments.<locals>.decorate.<locals>.wrapper\u001b[1;34m(*args, **kwargs)\u001b[0m\n\u001b[0;32m    305\u001b[0m \u001b[38;5;28;01mif\u001b[39;00m \u001b[38;5;28mlen\u001b[39m(args) \u001b[38;5;241m>\u001b[39m num_allow_args:\n\u001b[0;32m    306\u001b[0m     warnings\u001b[38;5;241m.\u001b[39mwarn(\n\u001b[0;32m    307\u001b[0m         msg\u001b[38;5;241m.\u001b[39mformat(arguments\u001b[38;5;241m=\u001b[39marguments),\n\u001b[0;32m    308\u001b[0m         \u001b[38;5;167;01mFutureWarning\u001b[39;00m,\n\u001b[0;32m    309\u001b[0m         stacklevel\u001b[38;5;241m=\u001b[39mstacklevel,\n\u001b[0;32m    310\u001b[0m     )\n\u001b[1;32m--> 311\u001b[0m \u001b[38;5;28;01mreturn\u001b[39;00m func(\u001b[38;5;241m*\u001b[39margs, \u001b[38;5;241m*\u001b[39m\u001b[38;5;241m*\u001b[39mkwargs)\n",
      "File \u001b[1;32m~\\AppData\\Local\\Programs\\Python\\Python310\\lib\\site-packages\\pandas\\io\\excel\\_base.py:457\u001b[0m, in \u001b[0;36mread_excel\u001b[1;34m(io, sheet_name, header, names, index_col, usecols, squeeze, dtype, engine, converters, true_values, false_values, skiprows, nrows, na_values, keep_default_na, na_filter, verbose, parse_dates, date_parser, thousands, decimal, comment, skipfooter, convert_float, mangle_dupe_cols, storage_options)\u001b[0m\n\u001b[0;32m    455\u001b[0m \u001b[38;5;28;01mif\u001b[39;00m \u001b[38;5;129;01mnot\u001b[39;00m \u001b[38;5;28misinstance\u001b[39m(io, ExcelFile):\n\u001b[0;32m    456\u001b[0m     should_close \u001b[38;5;241m=\u001b[39m \u001b[38;5;28;01mTrue\u001b[39;00m\n\u001b[1;32m--> 457\u001b[0m     io \u001b[38;5;241m=\u001b[39m \u001b[43mExcelFile\u001b[49m\u001b[43m(\u001b[49m\u001b[43mio\u001b[49m\u001b[43m,\u001b[49m\u001b[43m \u001b[49m\u001b[43mstorage_options\u001b[49m\u001b[38;5;241;43m=\u001b[39;49m\u001b[43mstorage_options\u001b[49m\u001b[43m,\u001b[49m\u001b[43m \u001b[49m\u001b[43mengine\u001b[49m\u001b[38;5;241;43m=\u001b[39;49m\u001b[43mengine\u001b[49m\u001b[43m)\u001b[49m\n\u001b[0;32m    458\u001b[0m \u001b[38;5;28;01melif\u001b[39;00m engine \u001b[38;5;129;01mand\u001b[39;00m engine \u001b[38;5;241m!=\u001b[39m io\u001b[38;5;241m.\u001b[39mengine:\n\u001b[0;32m    459\u001b[0m     \u001b[38;5;28;01mraise\u001b[39;00m \u001b[38;5;167;01mValueError\u001b[39;00m(\n\u001b[0;32m    460\u001b[0m         \u001b[38;5;124m\"\u001b[39m\u001b[38;5;124mEngine should not be specified when passing \u001b[39m\u001b[38;5;124m\"\u001b[39m\n\u001b[0;32m    461\u001b[0m         \u001b[38;5;124m\"\u001b[39m\u001b[38;5;124man ExcelFile - ExcelFile already has the engine set\u001b[39m\u001b[38;5;124m\"\u001b[39m\n\u001b[0;32m    462\u001b[0m     )\n",
      "File \u001b[1;32m~\\AppData\\Local\\Programs\\Python\\Python310\\lib\\site-packages\\pandas\\io\\excel\\_base.py:1376\u001b[0m, in \u001b[0;36mExcelFile.__init__\u001b[1;34m(self, path_or_buffer, engine, storage_options)\u001b[0m\n\u001b[0;32m   1374\u001b[0m     ext \u001b[38;5;241m=\u001b[39m \u001b[38;5;124m\"\u001b[39m\u001b[38;5;124mxls\u001b[39m\u001b[38;5;124m\"\u001b[39m\n\u001b[0;32m   1375\u001b[0m \u001b[38;5;28;01melse\u001b[39;00m:\n\u001b[1;32m-> 1376\u001b[0m     ext \u001b[38;5;241m=\u001b[39m \u001b[43minspect_excel_format\u001b[49m\u001b[43m(\u001b[49m\n\u001b[0;32m   1377\u001b[0m \u001b[43m        \u001b[49m\u001b[43mcontent_or_path\u001b[49m\u001b[38;5;241;43m=\u001b[39;49m\u001b[43mpath_or_buffer\u001b[49m\u001b[43m,\u001b[49m\u001b[43m \u001b[49m\u001b[43mstorage_options\u001b[49m\u001b[38;5;241;43m=\u001b[39;49m\u001b[43mstorage_options\u001b[49m\n\u001b[0;32m   1378\u001b[0m \u001b[43m    \u001b[49m\u001b[43m)\u001b[49m\n\u001b[0;32m   1379\u001b[0m     \u001b[38;5;28;01mif\u001b[39;00m ext \u001b[38;5;129;01mis\u001b[39;00m \u001b[38;5;28;01mNone\u001b[39;00m:\n\u001b[0;32m   1380\u001b[0m         \u001b[38;5;28;01mraise\u001b[39;00m \u001b[38;5;167;01mValueError\u001b[39;00m(\n\u001b[0;32m   1381\u001b[0m             \u001b[38;5;124m\"\u001b[39m\u001b[38;5;124mExcel file format cannot be determined, you must specify \u001b[39m\u001b[38;5;124m\"\u001b[39m\n\u001b[0;32m   1382\u001b[0m             \u001b[38;5;124m\"\u001b[39m\u001b[38;5;124man engine manually.\u001b[39m\u001b[38;5;124m\"\u001b[39m\n\u001b[0;32m   1383\u001b[0m         )\n",
      "File \u001b[1;32m~\\AppData\\Local\\Programs\\Python\\Python310\\lib\\site-packages\\pandas\\io\\excel\\_base.py:1250\u001b[0m, in \u001b[0;36minspect_excel_format\u001b[1;34m(content_or_path, storage_options)\u001b[0m\n\u001b[0;32m   1247\u001b[0m \u001b[38;5;28;01mif\u001b[39;00m \u001b[38;5;28misinstance\u001b[39m(content_or_path, \u001b[38;5;28mbytes\u001b[39m):\n\u001b[0;32m   1248\u001b[0m     content_or_path \u001b[38;5;241m=\u001b[39m BytesIO(content_or_path)\n\u001b[1;32m-> 1250\u001b[0m \u001b[38;5;28;01mwith\u001b[39;00m \u001b[43mget_handle\u001b[49m\u001b[43m(\u001b[49m\n\u001b[0;32m   1251\u001b[0m \u001b[43m    \u001b[49m\u001b[43mcontent_or_path\u001b[49m\u001b[43m,\u001b[49m\u001b[43m \u001b[49m\u001b[38;5;124;43m\"\u001b[39;49m\u001b[38;5;124;43mrb\u001b[39;49m\u001b[38;5;124;43m\"\u001b[39;49m\u001b[43m,\u001b[49m\u001b[43m \u001b[49m\u001b[43mstorage_options\u001b[49m\u001b[38;5;241;43m=\u001b[39;49m\u001b[43mstorage_options\u001b[49m\u001b[43m,\u001b[49m\u001b[43m \u001b[49m\u001b[43mis_text\u001b[49m\u001b[38;5;241;43m=\u001b[39;49m\u001b[38;5;28;43;01mFalse\u001b[39;49;00m\n\u001b[0;32m   1252\u001b[0m \u001b[43m\u001b[49m\u001b[43m)\u001b[49m \u001b[38;5;28;01mas\u001b[39;00m handle:\n\u001b[0;32m   1253\u001b[0m     stream \u001b[38;5;241m=\u001b[39m handle\u001b[38;5;241m.\u001b[39mhandle\n\u001b[0;32m   1254\u001b[0m     stream\u001b[38;5;241m.\u001b[39mseek(\u001b[38;5;241m0\u001b[39m)\n",
      "File \u001b[1;32m~\\AppData\\Local\\Programs\\Python\\Python310\\lib\\site-packages\\pandas\\io\\common.py:798\u001b[0m, in \u001b[0;36mget_handle\u001b[1;34m(path_or_buf, mode, encoding, compression, memory_map, is_text, errors, storage_options)\u001b[0m\n\u001b[0;32m    789\u001b[0m         handle \u001b[38;5;241m=\u001b[39m \u001b[38;5;28mopen\u001b[39m(\n\u001b[0;32m    790\u001b[0m             handle,\n\u001b[0;32m    791\u001b[0m             ioargs\u001b[38;5;241m.\u001b[39mmode,\n\u001b[1;32m   (...)\u001b[0m\n\u001b[0;32m    794\u001b[0m             newline\u001b[38;5;241m=\u001b[39m\u001b[38;5;124m\"\u001b[39m\u001b[38;5;124m\"\u001b[39m,\n\u001b[0;32m    795\u001b[0m         )\n\u001b[0;32m    796\u001b[0m     \u001b[38;5;28;01melse\u001b[39;00m:\n\u001b[0;32m    797\u001b[0m         \u001b[38;5;66;03m# Binary mode\u001b[39;00m\n\u001b[1;32m--> 798\u001b[0m         handle \u001b[38;5;241m=\u001b[39m \u001b[38;5;28;43mopen\u001b[39;49m\u001b[43m(\u001b[49m\u001b[43mhandle\u001b[49m\u001b[43m,\u001b[49m\u001b[43m \u001b[49m\u001b[43mioargs\u001b[49m\u001b[38;5;241;43m.\u001b[39;49m\u001b[43mmode\u001b[49m\u001b[43m)\u001b[49m\n\u001b[0;32m    799\u001b[0m     handles\u001b[38;5;241m.\u001b[39mappend(handle)\n\u001b[0;32m    801\u001b[0m \u001b[38;5;66;03m# Convert BytesIO or file objects passed with an encoding\u001b[39;00m\n",
      "\u001b[1;31mFileNotFoundError\u001b[0m: [Errno 2] No such file or directory: 'pico.xlsx'"
     ]
    }
   ],
   "source": [
    "dados1=pd.read_excel(\"pico.xlsx\",sheet_name=\"Plan2\")\n",
    "dados1"
   ]
  },
  {
   "cell_type": "code",
   "execution_count": null,
   "metadata": {},
   "outputs": [],
   "source": [
    "x=dados1['hr'][0: :4]\n",
    "y=dados1['tp'][0: :4]\n",
    "y2=dados1['ur'][0: :4]\n",
    "y3=dados1['uva'][0: :4]\n",
    "y4=dados1['lx'][0: :4]\n",
    "y5=y3/10"
   ]
  },
  {
   "cell_type": "code",
   "execution_count": null,
   "metadata": {},
   "outputs": [],
   "source": [
    "y5"
   ]
  },
  {
   "cell_type": "code",
   "execution_count": null,
   "metadata": {},
   "outputs": [],
   "source": [
    "manha=dados1['uva'][0:99:1].describe(percentiles=[]).round(2)\n",
    "tarde=dados1['uva'][99:198:1].describe(percentiles=[]).round(2)\n",
    "noite=dados1['uva'][198:297:1].describe(percentiles=[]).round(2)"
   ]
  },
  {
   "cell_type": "code",
   "execution_count": null,
   "metadata": {},
   "outputs": [],
   "source": [
    "tarde"
   ]
  },
  {
   "cell_type": "code",
   "execution_count": null,
   "metadata": {},
   "outputs": [],
   "source": [
    "fig, (ax1, ax2) = plt.subplots(2, 1, sharex=True, sharey=True, figsize=(14, 7))\n",
    "fig.subplots_adjust(hspace=0.1)\n",
    "\n",
    "ax3 = ax1.twinx()\n",
    "ax4 = ax2.twinx()\n",
    "\n",
    "# set limits for left y-axis\n",
    "ax1.set_ylim(0,80)\n",
    "ax2.set_ylim(0,80)\n",
    "# set limits for right y-axis (twinned)\n",
    "ax3.set_ylim(0, 12) #direita superior\n",
    "ax4.set_ylim(950, 1100) #direita inferior\n",
    "\n",
    "ax1.spines['bottom'].set_visible(False)\n",
    "ax2.spines['top'].set_visible(False)\n",
    "ax3.spines['bottom'].set_visible(False)\n",
    "ax4.spines['top'].set_visible(False)\n",
    "\n",
    "ax1.tick_params(bottom=False)\n",
    "ax2.tick_params(bottom=True)\n",
    "\n",
    "# plotting break diagonals\n",
    "d = 0.01  # line length \n",
    "ax1.plot((-d, +d), (-d, +d), c='k', clip_on=False, transform=ax1.transAxes)\n",
    "ax1.plot((1 - d, 1 + d), (-d, +d), c='k', clip_on=False, transform=ax1.transAxes)\n",
    "ax2.plot((-d, +d), (1 - d, (1 + d)), c='k', clip_on=False, transform=ax2.transAxes)\n",
    "ax2.plot((1 - d, 1 + d), (1 - d, 1 + d), c='k', clip_on=False, transform=ax2.transAxes)\n",
    "\n",
    "ax1.set_ylabel('°C',fontsize=12)\n",
    "ax2.set_ylabel('%',fontsize=12)\n",
    "ax3.set_ylabel('$mW/cm^2$',fontsize=12)\n",
    "ax4.set_ylabel('$lux$',fontsize=12)\n",
    "ax2.set_xlabel('Tempo',fontsize=12)\n",
    "plt.suptitle('Leitura das Variáveis: Praça 7 de Setembro - 05/07/21',fontsize=18)\n",
    "fig.autofmt_xdate(rotation=90)\n",
    "ax1.grid(True)\n",
    "ax2.grid(True)\n",
    "\n",
    "ax1.scatter(x, y, label='Temperatura', color='r')\n",
    "\n",
    "ax2.scatter(x, y2, label='Umidade Relativa', color='b')\n",
    "\n",
    "ax3.scatter(x, y5, c='g', label='UV')\n",
    "\n",
    "ax4.scatter(x, y4, label='Iluminância', color='y')\n",
    "\n",
    "ax1.text(8, 81, 'Manhã', style='italic',fontsize=12)\n",
    "ax1.text(35, 81, 'Tarde', style='italic',fontsize=12)        \n",
    "ax1.text(60, 81, 'Entardecer', style='italic',fontsize=12)\n",
    "\n",
    "ax1.vlines(x=24, ymin=0, ymax=80)\n",
    "ax2.vlines(x=24, ymin=0, ymax=80)\n",
    "ax1.vlines(x=49, ymin=0, ymax=80)\n",
    "ax2.vlines(x=49, ymin=0, ymax=80)\n",
    "ax1.legend(loc=2,fontsize=12, bbox_to_anchor=(0,1.04))\n",
    "ax2.legend(loc='center left',bbox_to_anchor=(0,0.83),fontsize=12)\n",
    "ax3.legend(loc='center left',bbox_to_anchor=(0,0.82),fontsize=12)\n",
    "ax4.legend(loc='upper left',bbox_to_anchor=(0,1.05) , fontsize=12)\n",
    "#plt.savefig('Pico1.png', dpi=300);"
   ]
  },
  {
   "cell_type": "code",
   "execution_count": null,
   "metadata": {},
   "outputs": [],
   "source": [
    "dados2=pd.read_excel(\"pico.xlsx\",sheet_name=\"Dia2\")"
   ]
  },
  {
   "cell_type": "code",
   "execution_count": null,
   "metadata": {},
   "outputs": [],
   "source": [
    "x_2=dados2['hr2'][0: :4]\n",
    "y_2=dados2['tp2'][0: :4]\n",
    "y2_2=dados2['ur2'][0: :4]\n",
    "y3_2=dados2['uva2'][0: :4]\n",
    "y3_3=y3_2/10\n",
    "y4_2=dados2['lx2'][0: :4]"
   ]
  },
  {
   "cell_type": "code",
   "execution_count": null,
   "metadata": {},
   "outputs": [],
   "source": [
    "manha=dados2['tp2'][0:99:1].describe(percentiles=[]).round(2)\n",
    "tarde=dados2['tp2'][99:198:1].describe(percentiles=[]).round(2)\n",
    "noite=dados2['tp2'][198:297:1].describe(percentiles=[]).round(2)"
   ]
  },
  {
   "cell_type": "code",
   "execution_count": null,
   "metadata": {},
   "outputs": [],
   "source": [
    "fig, (ax1, ax2) = plt.subplots(2, 1, sharex=True, sharey=True, figsize=(14, 7))\n",
    "fig.subplots_adjust(hspace=0.1)\n",
    "\n",
    "ax3 = ax1.twinx()\n",
    "ax4 = ax2.twinx()\n",
    "\n",
    "# set limits for left y-axis\n",
    "ax1.set_ylim(0,80)\n",
    "ax2.set_ylim(0,80)\n",
    "# set limits for right y-axis (twinned)\n",
    "ax3.set_ylim(0, 12) #direita superior\n",
    "ax4.set_ylim(650, 1300) #direita inferior\n",
    "\n",
    "ax1.spines['bottom'].set_visible(False)\n",
    "ax2.spines['top'].set_visible(False)\n",
    "ax3.spines['bottom'].set_visible(False)\n",
    "ax4.spines['top'].set_visible(False)\n",
    "\n",
    "ax1.tick_params(bottom=False)\n",
    "ax2.tick_params(bottom=True)\n",
    "\n",
    "# plotting break diagonals\n",
    "d = 0.01  # line length \n",
    "ax1.plot((-d, +d), (-d, +d), c='k', clip_on=False, transform=ax1.transAxes)\n",
    "ax1.plot((1 - d, 1 + d), (-d, +d), c='k', clip_on=False, transform=ax1.transAxes)\n",
    "ax2.plot((-d, +d), (1 - d, (1 + d)), c='k', clip_on=False, transform=ax2.transAxes)\n",
    "ax2.plot((1 - d, 1 + d), (1 - d, 1 + d), c='k', clip_on=False, transform=ax2.transAxes)\n",
    "\n",
    "ax1.set_ylabel('°C',fontsize=12)\n",
    "ax2.set_ylabel('%',fontsize=12)\n",
    "ax3.set_ylabel('$mW/cm^2$',fontsize=12)\n",
    "ax4.set_ylabel('$lux$',fontsize=12)\n",
    "ax2.set_xlabel('Tempo',fontsize=12)\n",
    "plt.suptitle('Leitura das Variáveis: Praça 7 de Setembro - 06/07/21',fontsize=18)\n",
    "fig.autofmt_xdate(rotation=90)\n",
    "ax1.grid(True)\n",
    "ax2.grid(True)\n",
    "\n",
    "ax1.scatter(x_2, y_2, label='Temperatura', color='r')\n",
    "\n",
    "ax2.scatter(x_2, y2_2, label='Umidade Relativa', color='b')\n",
    "\n",
    "ax3.scatter(x_2, y3_3, c='g', label='UV')\n",
    "\n",
    "ax4.scatter(x_2, y4_2, label='Iluminância', color='y')\n",
    "\n",
    "ax1.text(8, 81, 'Manhã', style='italic',fontsize=12)\n",
    "ax1.text(35, 81, 'Tarde', style='italic',fontsize=12)        \n",
    "ax1.text(60, 81, 'Entardecer', style='italic',fontsize=12)\n",
    "\n",
    "ax1.vlines(x=24, ymin=0, ymax=80)\n",
    "ax2.vlines(x=24, ymin=0, ymax=80)\n",
    "ax1.vlines(x=49, ymin=0, ymax=80)\n",
    "ax2.vlines(x=49, ymin=0, ymax=80)\n",
    "ax1.legend(loc=2,fontsize=12, bbox_to_anchor=(0,1.04))\n",
    "ax2.legend(loc='center left',bbox_to_anchor=(0,0.86),fontsize=12)\n",
    "ax3.legend(loc='center left',bbox_to_anchor=(0,0.82),fontsize=12)\n",
    "ax4.legend(loc='upper left',bbox_to_anchor=(0,1.09) , fontsize=12)\n",
    "#plt.savefig('pico2')"
   ]
  },
  {
   "cell_type": "code",
   "execution_count": null,
   "metadata": {},
   "outputs": [],
   "source": [
    "dados3=pd.read_excel(\"pico.xlsx\",sheet_name=\"Dia3\")\n",
    "x_3=dados3['hr3'][0: :4]\n",
    "y_3=dados3['tp3'][0: :4]\n",
    "y2_3=dados3['ur3'][0: :4]\n",
    "y3_3=dados3['uva3'][0: :4]\n",
    "y3_4=y3_3/10\n",
    "y4_3=dados3['lx3'][0: :4]"
   ]
  },
  {
   "cell_type": "code",
   "execution_count": null,
   "metadata": {},
   "outputs": [],
   "source": [
    "manha=dados3['uva3'][0:99:1].describe(percentiles=[]).round(2)\n",
    "tarde=dados3['uva3'][99:198:1].describe(percentiles=[]).round(2)\n",
    "noite=dados3['uva3'][198:297:1].describe(percentiles=[]).round(2)"
   ]
  },
  {
   "cell_type": "code",
   "execution_count": null,
   "metadata": {},
   "outputs": [],
   "source": [
    "fig, (ax1, ax2) = plt.subplots(2, 1, sharex=True, sharey=True, figsize=(14, 7))\n",
    "fig.subplots_adjust(hspace=0.1)\n",
    "\n",
    "ax3 = ax1.twinx()\n",
    "ax4 = ax2.twinx()\n",
    "\n",
    "# set limits for left y-axis\n",
    "ax1.set_ylim(0,80)\n",
    "ax2.set_ylim(0,80)\n",
    "# set limits for right y-axis (twinned)\n",
    "ax3.set_ylim(0, 12) #direita superior\n",
    "ax4.set_ylim(650, 1075) #direita inferior\n",
    "\n",
    "ax1.spines['bottom'].set_visible(False)\n",
    "ax2.spines['top'].set_visible(False)\n",
    "ax3.spines['bottom'].set_visible(False)\n",
    "ax4.spines['top'].set_visible(False)\n",
    "\n",
    "ax1.tick_params(bottom=False)\n",
    "ax2.tick_params(bottom=True)\n",
    "\n",
    "# plotting break diagonals\n",
    "d = 0.01  # line length \n",
    "ax1.plot((-d, +d), (-d, +d), c='k', clip_on=False, transform=ax1.transAxes)\n",
    "ax1.plot((1 - d, 1 + d), (-d, +d), c='k', clip_on=False, transform=ax1.transAxes)\n",
    "ax2.plot((-d, +d), (1 - d, (1 + d)), c='k', clip_on=False, transform=ax2.transAxes)\n",
    "ax2.plot((1 - d, 1 + d), (1 - d, 1 + d), c='k', clip_on=False, transform=ax2.transAxes)\n",
    "\n",
    "ax1.set_ylabel('°C',fontsize=12)\n",
    "ax2.set_ylabel('%',fontsize=12)\n",
    "ax3.set_ylabel('$mW/cm^2$',fontsize=12)\n",
    "ax4.set_ylabel('$lux$',fontsize=12)\n",
    "ax2.set_xlabel('Tempo',fontsize=12)\n",
    "plt.suptitle('Leitura das Variáveis: Praça 7 de Setembro - 07/07/21',fontsize=18)\n",
    "fig.autofmt_xdate(rotation=90)\n",
    "ax1.grid(True)\n",
    "ax2.grid(True)\n",
    "\n",
    "ax1.scatter(x_3, y_3, label='Temperatura', color='r')\n",
    "\n",
    "ax2.scatter(x_3, y2_3, label='Umidade Relativa', color='b')\n",
    "\n",
    "ax3.scatter(x_3, y3_4, c='g', label='UV')\n",
    "\n",
    "ax4.scatter(x_3, y4_3, label='Iluminância', color='y')\n",
    "\n",
    "ax1.text(8, 81, 'Manhã', style='italic',fontsize=12)\n",
    "ax1.text(35, 81, 'Tarde', style='italic',fontsize=12)        \n",
    "ax1.text(60, 81, 'Entardecer', style='italic',fontsize=12)\n",
    "\n",
    "ax1.vlines(x=24, ymin=0, ymax=80)\n",
    "ax2.vlines(x=24, ymin=0, ymax=80)\n",
    "ax1.vlines(x=49, ymin=0, ymax=80)\n",
    "ax2.vlines(x=49, ymin=0, ymax=80)\n",
    "ax1.legend(loc=2,fontsize=12, bbox_to_anchor=(0,1.04))\n",
    "ax2.legend(loc='center left',bbox_to_anchor=(0,0.87),fontsize=12)\n",
    "ax3.legend(loc='center left',bbox_to_anchor=(0,0.82),fontsize=12)\n",
    "ax4.legend(loc='upper left',bbox_to_anchor=(0,1.09) , fontsize=12)\n",
    "#plt.savefig('pico3')"
   ]
  }
 ],
 "metadata": {
  "kernelspec": {
   "display_name": "Python 3 (ipykernel)",
   "language": "python",
   "name": "python3"
  },
  "language_info": {
   "codemirror_mode": {
    "name": "ipython",
    "version": 3
   },
   "file_extension": ".py",
   "mimetype": "text/x-python",
   "name": "python",
   "nbconvert_exporter": "python",
   "pygments_lexer": "ipython3",
   "version": "3.10.4"
  }
 },
 "nbformat": 4,
 "nbformat_minor": 2
}
